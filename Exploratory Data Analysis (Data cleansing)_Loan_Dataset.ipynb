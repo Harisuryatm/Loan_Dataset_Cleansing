{
 "cells": [
  {
   "cell_type": "markdown",
   "metadata": {},
   "source": [
    "## Assignment : \n",
    "\n",
    "\n",
    "The Dataset consists of some customer information and their associated loan information . Task here is to clean the data, do exploratory data analysis on it and infer from the data about the trends in loans taken and products bought.\n",
    "\n",
    "\n"
   ]
  },
  {
   "cell_type": "code",
   "execution_count": 1,
   "metadata": {},
   "outputs": [],
   "source": [
    "#importing libraries to work with\n",
    "import pandas as pd                     # data processing\n",
    "import numpy as np                      # multi-dimensional arrays and matrices\n",
    "import matplotlib.pyplot as plt         # data visualization\n",
    "import seaborn as sns                   # data Visualization"
   ]
  },
  {
   "cell_type": "code",
   "execution_count": 2,
   "metadata": {},
   "outputs": [],
   "source": [
    "data = pd.read_csv('Data Analyst assignment data.csv')"
   ]
  },
  {
   "cell_type": "code",
   "execution_count": 3,
   "metadata": {},
   "outputs": [
    {
     "data": {
      "text/html": [
       "<div>\n",
       "<style scoped>\n",
       "    .dataframe tbody tr th:only-of-type {\n",
       "        vertical-align: middle;\n",
       "    }\n",
       "\n",
       "    .dataframe tbody tr th {\n",
       "        vertical-align: top;\n",
       "    }\n",
       "\n",
       "    .dataframe thead th {\n",
       "        text-align: right;\n",
       "    }\n",
       "</style>\n",
       "<table border=\"1\" class=\"dataframe\">\n",
       "  <thead>\n",
       "    <tr style=\"text-align: right;\">\n",
       "      <th></th>\n",
       "      <th>Unnamed: 0</th>\n",
       "      <th>Village</th>\n",
       "      <th>Group ID</th>\n",
       "      <th>Member ID</th>\n",
       "      <th>Branch Name</th>\n",
       "      <th>Circle Name</th>\n",
       "      <th>Loan Amount</th>\n",
       "      <th>Product Type</th>\n",
       "      <th>Name of Model</th>\n",
       "      <th>Product Detail</th>\n",
       "      <th>...</th>\n",
       "      <th>Manufacturer Name</th>\n",
       "      <th>Loan Account Number</th>\n",
       "      <th>Loan Application Date</th>\n",
       "      <th>Product Installed Date</th>\n",
       "      <th>Document Signature Date</th>\n",
       "      <th>loan_id</th>\n",
       "      <th>household_id</th>\n",
       "      <th>product_id</th>\n",
       "      <th>branch_id</th>\n",
       "      <th>partner_id</th>\n",
       "    </tr>\n",
       "  </thead>\n",
       "  <tbody>\n",
       "    <tr>\n",
       "      <th>0</th>\n",
       "      <td>0</td>\n",
       "      <td>Honnavalli</td>\n",
       "      <td>27674</td>\n",
       "      <td>1</td>\n",
       "      <td>Tiptur</td>\n",
       "      <td>J.C Pura</td>\n",
       "      <td>15500</td>\n",
       "      <td>Solar Light Selco</td>\n",
       "      <td>SH4HLS</td>\n",
       "      <td>4 COMBI Light</td>\n",
       "      <td>...</td>\n",
       "      <td>SELCO</td>\n",
       "      <td>99155</td>\n",
       "      <td>2018-06-12T00:00:00+05:30</td>\n",
       "      <td>2018-06-18T00:00:00+05:30</td>\n",
       "      <td>2018-06-12T00:00:00+05:30</td>\n",
       "      <td>57-99155</td>\n",
       "      <td>27674-1</td>\n",
       "      <td>50.0</td>\n",
       "      <td>55.0</td>\n",
       "      <td>1</td>\n",
       "    </tr>\n",
       "    <tr>\n",
       "      <th>1</th>\n",
       "      <td>1</td>\n",
       "      <td>Amaramudnooru</td>\n",
       "      <td>650604</td>\n",
       "      <td>15</td>\n",
       "      <td>Sullia</td>\n",
       "      <td>Bellare</td>\n",
       "      <td>53000</td>\n",
       "      <td>Solar Light Selco</td>\n",
       "      <td>S15HLS</td>\n",
       "      <td>12 CFL + 2 Fan</td>\n",
       "      <td>...</td>\n",
       "      <td>SELCO</td>\n",
       "      <td>369065</td>\n",
       "      <td>2019-01-07T00:00:00+05:30</td>\n",
       "      <td>2019-01-10T00:00:00+05:30</td>\n",
       "      <td>2019-01-07T00:00:00+05:30</td>\n",
       "      <td>4-369065</td>\n",
       "      <td>650604-15</td>\n",
       "      <td>42.0</td>\n",
       "      <td>4.0</td>\n",
       "      <td>1</td>\n",
       "    </tr>\n",
       "    <tr>\n",
       "      <th>2</th>\n",
       "      <td>2</td>\n",
       "      <td>PURASABHE</td>\n",
       "      <td>376321</td>\n",
       "      <td>6</td>\n",
       "      <td>Holenarasipura</td>\n",
       "      <td>PURASABHE</td>\n",
       "      <td>9000</td>\n",
       "      <td>Solar Light Selco</td>\n",
       "      <td>EH2HLS</td>\n",
       "      <td>2 LED Light</td>\n",
       "      <td>...</td>\n",
       "      <td>SELCO</td>\n",
       "      <td>169976</td>\n",
       "      <td>2018-06-02T00:00:00+05:30</td>\n",
       "      <td>2018-06-04T00:00:00+05:30</td>\n",
       "      <td>2018-06-02T00:00:00+05:30</td>\n",
       "      <td>102-169976</td>\n",
       "      <td>376321-6</td>\n",
       "      <td>35.0</td>\n",
       "      <td>94.0</td>\n",
       "      <td>1</td>\n",
       "    </tr>\n",
       "    <tr>\n",
       "      <th>3</th>\n",
       "      <td>3</td>\n",
       "      <td>Mekalmardi</td>\n",
       "      <td>60589</td>\n",
       "      <td>4</td>\n",
       "      <td>Bailahongal</td>\n",
       "      <td>Nesargi</td>\n",
       "      <td>8000</td>\n",
       "      <td>Solar Light Selco</td>\n",
       "      <td>EH2HLS</td>\n",
       "      <td>2 LED Light</td>\n",
       "      <td>...</td>\n",
       "      <td>SELCO</td>\n",
       "      <td>137608</td>\n",
       "      <td>2018-09-24T00:00:00+05:30</td>\n",
       "      <td>2018-09-25T00:00:00+05:30</td>\n",
       "      <td>2018-09-24T00:00:00+05:30</td>\n",
       "      <td>50-137608</td>\n",
       "      <td>60589-4</td>\n",
       "      <td>35.0</td>\n",
       "      <td>48.0</td>\n",
       "      <td>1</td>\n",
       "    </tr>\n",
       "    <tr>\n",
       "      <th>4</th>\n",
       "      <td>4</td>\n",
       "      <td>Bijkal</td>\n",
       "      <td>287722</td>\n",
       "      <td>2</td>\n",
       "      <td>Kushtagi</td>\n",
       "      <td>kushtagi</td>\n",
       "      <td>36000</td>\n",
       "      <td>Solar Light Selco</td>\n",
       "      <td>S10HLS</td>\n",
       "      <td>10 CFL</td>\n",
       "      <td>...</td>\n",
       "      <td>SELCO</td>\n",
       "      <td>114405</td>\n",
       "      <td>2019-03-15T00:00:00+05:30</td>\n",
       "      <td>2019-03-18T00:00:00+05:30</td>\n",
       "      <td>2019-03-15T00:00:00+05:30</td>\n",
       "      <td>83-114405</td>\n",
       "      <td>287722-2</td>\n",
       "      <td>40.0</td>\n",
       "      <td>80.0</td>\n",
       "      <td>1</td>\n",
       "    </tr>\n",
       "  </tbody>\n",
       "</table>\n",
       "<p>5 rows × 21 columns</p>\n",
       "</div>"
      ],
      "text/plain": [
       "   Unnamed: 0        Village  Group ID  Member ID     Branch Name Circle Name  \\\n",
       "0           0     Honnavalli     27674          1          Tiptur    J.C Pura   \n",
       "1           1  Amaramudnooru    650604         15          Sullia     Bellare   \n",
       "2           2      PURASABHE    376321          6  Holenarasipura   PURASABHE   \n",
       "3           3     Mekalmardi     60589          4     Bailahongal     Nesargi   \n",
       "4           4         Bijkal    287722          2        Kushtagi    kushtagi   \n",
       "\n",
       "  Loan Amount       Product Type Name of Model  Product Detail     ...      \\\n",
       "0       15500  Solar Light Selco        SH4HLS   4 COMBI Light     ...       \n",
       "1       53000  Solar Light Selco        S15HLS  12 CFL + 2 Fan     ...       \n",
       "2        9000  Solar Light Selco        EH2HLS     2 LED Light     ...       \n",
       "3        8000  Solar Light Selco        EH2HLS     2 LED Light     ...       \n",
       "4       36000  Solar Light Selco        S10HLS          10 CFL     ...       \n",
       "\n",
       "  Manufacturer Name Loan Account Number      Loan Application Date  \\\n",
       "0             SELCO               99155  2018-06-12T00:00:00+05:30   \n",
       "1             SELCO              369065  2019-01-07T00:00:00+05:30   \n",
       "2             SELCO              169976  2018-06-02T00:00:00+05:30   \n",
       "3             SELCO              137608  2018-09-24T00:00:00+05:30   \n",
       "4             SELCO              114405  2019-03-15T00:00:00+05:30   \n",
       "\n",
       "      Product Installed Date    Document Signature Date     loan_id  \\\n",
       "0  2018-06-18T00:00:00+05:30  2018-06-12T00:00:00+05:30    57-99155   \n",
       "1  2019-01-10T00:00:00+05:30  2019-01-07T00:00:00+05:30    4-369065   \n",
       "2  2018-06-04T00:00:00+05:30  2018-06-02T00:00:00+05:30  102-169976   \n",
       "3  2018-09-25T00:00:00+05:30  2018-09-24T00:00:00+05:30   50-137608   \n",
       "4  2019-03-18T00:00:00+05:30  2019-03-15T00:00:00+05:30   83-114405   \n",
       "\n",
       "  household_id product_id  branch_id  partner_id  \n",
       "0      27674-1       50.0       55.0           1  \n",
       "1    650604-15       42.0        4.0           1  \n",
       "2     376321-6       35.0       94.0           1  \n",
       "3      60589-4       35.0       48.0           1  \n",
       "4     287722-2       40.0       80.0           1  \n",
       "\n",
       "[5 rows x 21 columns]"
      ]
     },
     "execution_count": 3,
     "metadata": {},
     "output_type": "execute_result"
    }
   ],
   "source": [
    "#first 5 rows \n",
    "data.head()"
   ]
  },
  {
   "cell_type": "code",
   "execution_count": 4,
   "metadata": {},
   "outputs": [
    {
     "data": {
      "text/plain": [
       "(5000, 21)"
      ]
     },
     "execution_count": 4,
     "metadata": {},
     "output_type": "execute_result"
    }
   ],
   "source": [
    "# no.of datavalues and no. of features in the dataset\n",
    "data.shape"
   ]
  },
  {
   "cell_type": "code",
   "execution_count": null,
   "metadata": {},
   "outputs": [],
   "source": []
  },
  {
   "cell_type": "code",
   "execution_count": 12,
   "metadata": {},
   "outputs": [
    {
     "data": {
      "image/png": "[encoded data removed]",
      "text/plain": [
       "<Figure size 432x288 with 1 Axes>"
      ]
     },
     "metadata": {
      "needs_background": "light"
     },
     "output_type": "display_data"
    }
   ],
   "source": [
    "Loan_Amount = data['Loan Amount'].loc[0:10]\n",
    "y = Loan_Amount\n",
    "\n",
    "Village_Name = data['Circle Name'].loc[0:10]\n",
    "X = Village_Name\n",
    "\n",
    "plt.bar(X,y)\n",
    "plt.title('Loan Amount for that circle')\n",
    "plt.xlabel('Circle Name')\n",
    "plt.xticks(rotation=90)\n",
    "plt.ylabel('Loan Amount')\n",
    "plt.show()\n",
    "\n"
   ]
  },
  {
   "cell_type": "code",
   "execution_count": null,
   "metadata": {},
   "outputs": [],
   "source": []
  },
  {
   "cell_type": "markdown",
   "metadata": {},
   "source": [
    "Data set contains 5000 datavalues and 21 columns or features"
   ]
  },
  {
   "cell_type": "code",
   "execution_count": 13,
   "metadata": {},
   "outputs": [
    {
     "name": "stdout",
     "output_type": "stream",
     "text": [
      "<class 'pandas.core.frame.DataFrame'>\n",
      "RangeIndex: 5000 entries, 0 to 4999\n",
      "Data columns (total 21 columns):\n",
      "Unnamed: 0                 5000 non-null int64\n",
      "Village                    4993 non-null object\n",
      "Group ID                   5000 non-null int64\n",
      "Member ID                  5000 non-null int64\n",
      "Branch Name                5000 non-null object\n",
      "Circle Name                5000 non-null object\n",
      "Loan Amount                5000 non-null object\n",
      "Product Type               5000 non-null object\n",
      "Name of Model              5000 non-null object\n",
      "Product Detail             1413 non-null object\n",
      "Institution Name           5000 non-null object\n",
      "Manufacturer Name          5000 non-null object\n",
      "Loan Account Number        5000 non-null int64\n",
      "Loan Application Date      5000 non-null object\n",
      "Product Installed Date     5000 non-null object\n",
      "Document Signature Date    5000 non-null object\n",
      "loan_id                    5000 non-null object\n",
      "household_id               5000 non-null object\n",
      "product_id                 5000 non-null float64\n",
      "branch_id                  5000 non-null float64\n",
      "partner_id                 5000 non-null int64\n",
      "dtypes: float64(2), int64(5), object(14)\n",
      "memory usage: 820.4+ KB\n"
     ]
    }
   ],
   "source": [
    "# Information about complete features\n",
    "data.info()"
   ]
  },
  {
   "cell_type": "markdown",
   "metadata": {},
   "source": [
    "Therefore , features contains int (numerical) , object (categorical) as well as float types in it.       \n",
    "Mainly , There is a missing values in Village and Product Detail . "
   ]
  },
  {
   "cell_type": "code",
   "execution_count": 14,
   "metadata": {},
   "outputs": [
    {
     "data": {
      "text/plain": [
       "['Unnamed: 0',\n",
       " 'Group ID',\n",
       " 'Member ID',\n",
       " 'Loan Account Number',\n",
       " 'product_id',\n",
       " 'branch_id',\n",
       " 'partner_id']"
      ]
     },
     "execution_count": 14,
     "metadata": {},
     "output_type": "execute_result"
    }
   ],
   "source": [
    "#splitting Numerical features and categorical features seperately\n",
    "numerical_features = data.select_dtypes(include = ['int64','float64'])\n",
    "numerical_features.columns.tolist()"
   ]
  },
  {
   "cell_type": "code",
   "execution_count": 15,
   "metadata": {},
   "outputs": [
    {
     "data": {
      "text/plain": [
       "['Village',\n",
       " 'Branch Name',\n",
       " 'Circle Name',\n",
       " 'Loan Amount',\n",
       " 'Product Type',\n",
       " 'Name of Model',\n",
       " 'Product Detail',\n",
       " 'Institution Name',\n",
       " 'Manufacturer Name',\n",
       " 'Loan Application Date',\n",
       " 'Product Installed Date',\n",
       " 'Document Signature Date',\n",
       " 'loan_id',\n",
       " 'household_id']"
      ]
     },
     "execution_count": 15,
     "metadata": {},
     "output_type": "execute_result"
    }
   ],
   "source": [
    "#categorical features\n",
    "categorical_features = data.select_dtypes(include = 'object')\n",
    "categorical_features.columns.tolist()"
   ]
  },
  {
   "cell_type": "markdown",
   "metadata": {},
   "source": [
    "From the dataset , we can infer that most of the features contains categorical values than numerical values"
   ]
  },
  {
   "cell_type": "markdown",
   "metadata": {},
   "source": [
    "Now lets take a look at how the dataset is distributed,"
   ]
  },
  {
   "cell_type": "code",
   "execution_count": 16,
   "metadata": {},
   "outputs": [
    {
     "data": {
      "text/html": [
       "<div>\n",
       "<style scoped>\n",
       "    .dataframe tbody tr th:only-of-type {\n",
       "        vertical-align: middle;\n",
       "    }\n",
       "\n",
       "    .dataframe tbody tr th {\n",
       "        vertical-align: top;\n",
       "    }\n",
       "\n",
       "    .dataframe thead th {\n",
       "        text-align: right;\n",
       "    }\n",
       "</style>\n",
       "<table border=\"1\" class=\"dataframe\">\n",
       "  <thead>\n",
       "    <tr style=\"text-align: right;\">\n",
       "      <th></th>\n",
       "      <th>Village</th>\n",
       "      <th>Branch Name</th>\n",
       "      <th>Circle Name</th>\n",
       "      <th>Loan Amount</th>\n",
       "      <th>Product Type</th>\n",
       "      <th>Name of Model</th>\n",
       "      <th>Product Detail</th>\n",
       "      <th>Institution Name</th>\n",
       "      <th>Manufacturer Name</th>\n",
       "      <th>Loan Application Date</th>\n",
       "      <th>Product Installed Date</th>\n",
       "      <th>Document Signature Date</th>\n",
       "      <th>loan_id</th>\n",
       "      <th>household_id</th>\n",
       "    </tr>\n",
       "  </thead>\n",
       "  <tbody>\n",
       "    <tr>\n",
       "      <th>count</th>\n",
       "      <td>4993</td>\n",
       "      <td>5000</td>\n",
       "      <td>5000</td>\n",
       "      <td>5000</td>\n",
       "      <td>5000</td>\n",
       "      <td>5000</td>\n",
       "      <td>1413</td>\n",
       "      <td>5000</td>\n",
       "      <td>5000</td>\n",
       "      <td>5000</td>\n",
       "      <td>5000</td>\n",
       "      <td>5000</td>\n",
       "      <td>5000</td>\n",
       "      <td>5000</td>\n",
       "    </tr>\n",
       "    <tr>\n",
       "      <th>unique</th>\n",
       "      <td>2543</td>\n",
       "      <td>160</td>\n",
       "      <td>1015</td>\n",
       "      <td>87</td>\n",
       "      <td>3</td>\n",
       "      <td>14</td>\n",
       "      <td>12</td>\n",
       "      <td>1</td>\n",
       "      <td>2</td>\n",
       "      <td>334</td>\n",
       "      <td>228</td>\n",
       "      <td>333</td>\n",
       "      <td>5000</td>\n",
       "      <td>4994</td>\n",
       "    </tr>\n",
       "    <tr>\n",
       "      <th>top</th>\n",
       "      <td>Bijapur CMC</td>\n",
       "      <td>Chikodi</td>\n",
       "      <td>KASABA</td>\n",
       "      <td>2350</td>\n",
       "      <td>Greenway Jumbo Stove GJS1</td>\n",
       "      <td>GJS1</td>\n",
       "      <td>2 CFL</td>\n",
       "      <td>SKDRDP</td>\n",
       "      <td>Greenway Grameena Infra</td>\n",
       "      <td>2018-09-20T00:00:00+05:30</td>\n",
       "      <td>2018-09-24T00:00:00+05:30</td>\n",
       "      <td>2018-09-20T00:00:00+05:30</td>\n",
       "      <td>3-945421</td>\n",
       "      <td>531142-1</td>\n",
       "    </tr>\n",
       "    <tr>\n",
       "      <th>freq</th>\n",
       "      <td>34</td>\n",
       "      <td>121</td>\n",
       "      <td>70</td>\n",
       "      <td>3148</td>\n",
       "      <td>3151</td>\n",
       "      <td>3151</td>\n",
       "      <td>382</td>\n",
       "      <td>5000</td>\n",
       "      <td>3587</td>\n",
       "      <td>79</td>\n",
       "      <td>148</td>\n",
       "      <td>79</td>\n",
       "      <td>1</td>\n",
       "      <td>2</td>\n",
       "    </tr>\n",
       "  </tbody>\n",
       "</table>\n",
       "</div>"
      ],
      "text/plain": [
       "            Village Branch Name Circle Name Loan Amount  \\\n",
       "count          4993        5000        5000        5000   \n",
       "unique         2543         160        1015          87   \n",
       "top     Bijapur CMC     Chikodi      KASABA        2350   \n",
       "freq             34         121          70        3148   \n",
       "\n",
       "                     Product Type Name of Model Product Detail  \\\n",
       "count                        5000          5000           1413   \n",
       "unique                          3            14             12   \n",
       "top     Greenway Jumbo Stove GJS1          GJS1          2 CFL   \n",
       "freq                         3151          3151            382   \n",
       "\n",
       "       Institution Name        Manufacturer Name      Loan Application Date  \\\n",
       "count              5000                     5000                       5000   \n",
       "unique                1                        2                        334   \n",
       "top              SKDRDP  Greenway Grameena Infra  2018-09-20T00:00:00+05:30   \n",
       "freq               5000                     3587                         79   \n",
       "\n",
       "           Product Installed Date    Document Signature Date   loan_id  \\\n",
       "count                        5000                       5000      5000   \n",
       "unique                        228                        333      5000   \n",
       "top     2018-09-24T00:00:00+05:30  2018-09-20T00:00:00+05:30  3-945421   \n",
       "freq                          148                         79         1   \n",
       "\n",
       "       household_id  \n",
       "count          5000  \n",
       "unique         4994  \n",
       "top        531142-1  \n",
       "freq              2  "
      ]
     },
     "execution_count": 16,
     "metadata": {},
     "output_type": "execute_result"
    }
   ],
   "source": [
    "data.describe(include = 'object')"
   ]
  },
  {
   "cell_type": "code",
   "execution_count": 17,
   "metadata": {},
   "outputs": [],
   "source": [
    "Product_type = data['Product Type'].value_counts().values\n",
    "X = data['Product Type'].unique().tolist()\n",
    "y = Product_type.tolist()"
   ]
  },
  {
   "cell_type": "code",
   "execution_count": 19,
   "metadata": {},
   "outputs": [
    {
     "data": {
      "text/plain": [
       "Text(0, 0.5, 'value')"
      ]
     },
     "execution_count": 19,
     "metadata": {},
     "output_type": "execute_result"
    },
    {
     "data": {
      "image/png": "[encoded data removed]",
      "text/plain": [
       "<Figure size 432x288 with 1 Axes>"
      ]
     },
     "metadata": {
      "needs_background": "light"
     },
     "output_type": "display_data"
    }
   ],
   "source": [
    "#count of Prduct Type\n",
    "\n",
    "plt.bar(X,y)\n",
    "plt.title('Product type')\n",
    "plt.xlabel('product type')\n",
    "plt.xticks(rotation=45)\n",
    "plt.ylabel('value')"
   ]
  },
  {
   "cell_type": "code",
   "execution_count": null,
   "metadata": {},
   "outputs": [],
   "source": []
  },
  {
   "cell_type": "code",
   "execution_count": null,
   "metadata": {},
   "outputs": [],
   "source": []
  },
  {
   "cell_type": "markdown",
   "metadata": {},
   "source": [
    "Datavalue in 4113rd row of Loan Amount has  unnecessary value in it . Changing that value to zero"
   ]
  },
  {
   "cell_type": "code",
   "execution_count": 22,
   "metadata": {},
   "outputs": [
    {
     "data": {
      "text/plain": [
       "4110                        29500\n",
       "4111                         2350\n",
       "4112                         2350\n",
       "4113    2017-12-09T00:00:00+05:30\n",
       "4114                         2350\n",
       "4115                         2350\n",
       "Name: Loan Amount, dtype: object"
      ]
     },
     "execution_count": 22,
     "metadata": {},
     "output_type": "execute_result"
    }
   ],
   "source": [
    "data['Loan Amount'].loc[4110 : 4115]"
   ]
  },
  {
   "cell_type": "code",
   "execution_count": 23,
   "metadata": {},
   "outputs": [],
   "source": [
    "#dropped that unnecessary value's row\n",
    "data = data.drop(data.index[4113])"
   ]
  },
  {
   "cell_type": "code",
   "execution_count": 24,
   "metadata": {},
   "outputs": [],
   "source": [
    "#changing object to integer value for Loan Amount feature\n",
    "data['Loan Amount'] = pd.to_numeric(data['Loan Amount'])"
   ]
  },
  {
   "cell_type": "code",
   "execution_count": 25,
   "metadata": {},
   "outputs": [
    {
     "data": {
      "text/plain": [
       "dtype('int64')"
      ]
     },
     "execution_count": 25,
     "metadata": {},
     "output_type": "execute_result"
    }
   ],
   "source": [
    "data['Loan Amount'].dtypes"
   ]
  },
  {
   "cell_type": "markdown",
   "metadata": {},
   "source": [
    "### Dropping Unnecessary columns :\n",
    "    By relating the feature values"
   ]
  },
  {
   "cell_type": "markdown",
   "metadata": {},
   "source": [
    "Dropping ,       \n",
    "Group ID , Member ID , Patner ID , loan_id , household_id ,Institution Name , Product Detail- it doesn't give relevant information for our model               \n",
    "instead of branch Name , we can take branch ID - These both features gives same information about branch                  \n",
    "Same for Name of Model , we can take product_id instead.         "
   ]
  },
  {
   "cell_type": "code",
   "execution_count": 26,
   "metadata": {},
   "outputs": [],
   "source": [
    "#Both gives same information by seeing the id as well names in it"
   ]
  },
  {
   "cell_type": "code",
   "execution_count": 27,
   "metadata": {},
   "outputs": [
    {
     "data": {
      "text/plain": [
       "38.0    3151\n",
       "37.0     436\n",
       "43.0     382\n",
       "35.0     357\n",
       "36.0     289\n",
       "50.0     179\n",
       "44.0      91\n",
       "47.0      58\n",
       "41.0      17\n",
       "40.0      16\n",
       "48.0       7\n",
       "46.0       6\n",
       "23.0       5\n",
       "42.0       5\n",
       "Name: product_id, dtype: int64"
      ]
     },
     "execution_count": 27,
     "metadata": {},
     "output_type": "execute_result"
    }
   ],
   "source": [
    "data['product_id'].value_counts()"
   ]
  },
  {
   "cell_type": "code",
   "execution_count": 28,
   "metadata": {},
   "outputs": [],
   "source": [
    "data.drop(['Unnamed: 0','Name of Model','Group ID' , 'Member ID','Circle Name' ,'partner_id' , 'loan_id' ,\n",
    "           'household_id' , 'Institution Name' , 'Branch Name','Product Detail'],axis = 1, inplace = True)"
   ]
  },
  {
   "cell_type": "code",
   "execution_count": 29,
   "metadata": {},
   "outputs": [
    {
     "data": {
      "text/plain": [
       "Village                    7\n",
       "Loan Amount                0\n",
       "Product Type               0\n",
       "Manufacturer Name          0\n",
       "Loan Account Number        0\n",
       "Loan Application Date      0\n",
       "Product Installed Date     0\n",
       "Document Signature Date    0\n",
       "product_id                 0\n",
       "branch_id                  0\n",
       "dtype: int64"
      ]
     },
     "execution_count": 29,
     "metadata": {},
     "output_type": "execute_result"
    }
   ],
   "source": [
    "#here Village has NaN values.\n",
    "data.isnull().sum()"
   ]
  },
  {
   "cell_type": "code",
   "execution_count": null,
   "metadata": {},
   "outputs": [],
   "source": []
  },
  {
   "cell_type": "code",
   "execution_count": 30,
   "metadata": {},
   "outputs": [],
   "source": [
    "# Dropping  those 7 rows.\n",
    "data.dropna(inplace = True )"
   ]
  },
  {
   "cell_type": "code",
   "execution_count": 31,
   "metadata": {},
   "outputs": [
    {
     "data": {
      "text/plain": [
       "Village                    0\n",
       "Loan Amount                0\n",
       "Product Type               0\n",
       "Manufacturer Name          0\n",
       "Loan Account Number        0\n",
       "Loan Application Date      0\n",
       "Product Installed Date     0\n",
       "Document Signature Date    0\n",
       "product_id                 0\n",
       "branch_id                  0\n",
       "dtype: int64"
      ]
     },
     "execution_count": 31,
     "metadata": {},
     "output_type": "execute_result"
    }
   ],
   "source": [
    "data.isnull().sum()"
   ]
  },
  {
   "cell_type": "markdown",
   "metadata": {},
   "source": [
    "### Feature Engineering :"
   ]
  },
  {
   "cell_type": "markdown",
   "metadata": {},
   "source": [
    "Now, Dataset contains less features in it . By doing Feature Engineering we can increase the feature value    \n",
    "\n",
    "Loan Application Date , Product Installed Date , Document Signature Date features has unnecessary values that is impossible to model    \n"
   ]
  },
  {
   "cell_type": "markdown",
   "metadata": {},
   "source": [
    "Creating New features of values containing Day , Month and year of those three features"
   ]
  },
  {
   "cell_type": "code",
   "execution_count": 32,
   "metadata": {},
   "outputs": [],
   "source": [
    "#Changing from object values to datetime values\n",
    "data['Loan Application Date'] = pd.to_datetime(data['Loan Application Date'])\n",
    "data['Product Installed Date'] = pd.to_datetime(data['Product Installed Date'])\n",
    "data['Document Signature Date'] = pd.to_datetime(data['Document Signature Date'])"
   ]
  },
  {
   "cell_type": "code",
   "execution_count": 33,
   "metadata": {},
   "outputs": [
    {
     "name": "stdout",
     "output_type": "stream",
     "text": [
      "<class 'pandas.core.frame.DataFrame'>\n",
      "Int64Index: 4992 entries, 0 to 4999\n",
      "Data columns (total 10 columns):\n",
      "Village                    4992 non-null object\n",
      "Loan Amount                4992 non-null int64\n",
      "Product Type               4992 non-null object\n",
      "Manufacturer Name          4992 non-null object\n",
      "Loan Account Number        4992 non-null int64\n",
      "Loan Application Date      4992 non-null datetime64[ns]\n",
      "Product Installed Date     4992 non-null datetime64[ns]\n",
      "Document Signature Date    4992 non-null datetime64[ns]\n",
      "product_id                 4992 non-null float64\n",
      "branch_id                  4992 non-null float64\n",
      "dtypes: datetime64[ns](3), float64(2), int64(2), object(3)\n",
      "memory usage: 429.0+ KB\n"
     ]
    }
   ],
   "source": [
    "data.info()"
   ]
  },
  {
   "cell_type": "code",
   "execution_count": 34,
   "metadata": {},
   "outputs": [],
   "source": [
    "# Creating New features of values containing Day , Month and year of those three features\n",
    "data['Loan_Applied_day'] = data['Loan Application Date'].dt.day\n",
    "data['Loan_Applied_month'] = data['Loan Application Date'].dt.month\n",
    "data['Loan_Applied_year'] = data['Loan Application Date'].dt.year"
   ]
  },
  {
   "cell_type": "code",
   "execution_count": 35,
   "metadata": {},
   "outputs": [],
   "source": [
    "data['Product_Installed_day'] = data['Product Installed Date'].dt.day\n",
    "data['Product_Installed_month'] = data['Product Installed Date'].dt.month\n",
    "data['Product_Installed_year'] = data['Product Installed Date'].dt.year"
   ]
  },
  {
   "cell_type": "code",
   "execution_count": 36,
   "metadata": {},
   "outputs": [],
   "source": [
    "data['Document_signed_day'] = data['Document Signature Date'].dt.day\n",
    "data['Document_signed_month'] = data['Document Signature Date'].dt.month\n",
    "data['Document_signed_year'] = data['Document Signature Date'].dt.year"
   ]
  },
  {
   "cell_type": "markdown",
   "metadata": {},
   "source": [
    "Dropping that unnecessary feature because we got our information by seperatiing the day , month , year"
   ]
  },
  {
   "cell_type": "code",
   "execution_count": 37,
   "metadata": {},
   "outputs": [],
   "source": [
    "data.drop(['Loan Application Date','Product Installed Date','Document Signature Date'],axis = 1 , inplace = True)"
   ]
  },
  {
   "cell_type": "code",
   "execution_count": 38,
   "metadata": {},
   "outputs": [
    {
     "data": {
      "text/html": [
       "<div>\n",
       "<style scoped>\n",
       "    .dataframe tbody tr th:only-of-type {\n",
       "        vertical-align: middle;\n",
       "    }\n",
       "\n",
       "    .dataframe tbody tr th {\n",
       "        vertical-align: top;\n",
       "    }\n",
       "\n",
       "    .dataframe thead th {\n",
       "        text-align: right;\n",
       "    }\n",
       "</style>\n",
       "<table border=\"1\" class=\"dataframe\">\n",
       "  <thead>\n",
       "    <tr style=\"text-align: right;\">\n",
       "      <th></th>\n",
       "      <th>Village</th>\n",
       "      <th>Loan Amount</th>\n",
       "      <th>Product Type</th>\n",
       "      <th>Manufacturer Name</th>\n",
       "      <th>Loan Account Number</th>\n",
       "      <th>product_id</th>\n",
       "      <th>branch_id</th>\n",
       "      <th>Loan_Applied_day</th>\n",
       "      <th>Loan_Applied_month</th>\n",
       "      <th>Loan_Applied_year</th>\n",
       "      <th>Product_Installed_day</th>\n",
       "      <th>Product_Installed_month</th>\n",
       "      <th>Product_Installed_year</th>\n",
       "      <th>Document_signed_day</th>\n",
       "      <th>Document_signed_month</th>\n",
       "      <th>Document_signed_year</th>\n",
       "    </tr>\n",
       "  </thead>\n",
       "  <tbody>\n",
       "    <tr>\n",
       "      <th>0</th>\n",
       "      <td>Honnavalli</td>\n",
       "      <td>15500</td>\n",
       "      <td>Solar Light Selco</td>\n",
       "      <td>SELCO</td>\n",
       "      <td>99155</td>\n",
       "      <td>50.0</td>\n",
       "      <td>55.0</td>\n",
       "      <td>11</td>\n",
       "      <td>6</td>\n",
       "      <td>2018</td>\n",
       "      <td>17</td>\n",
       "      <td>6</td>\n",
       "      <td>2018</td>\n",
       "      <td>11</td>\n",
       "      <td>6</td>\n",
       "      <td>2018</td>\n",
       "    </tr>\n",
       "    <tr>\n",
       "      <th>1</th>\n",
       "      <td>Amaramudnooru</td>\n",
       "      <td>53000</td>\n",
       "      <td>Solar Light Selco</td>\n",
       "      <td>SELCO</td>\n",
       "      <td>369065</td>\n",
       "      <td>42.0</td>\n",
       "      <td>4.0</td>\n",
       "      <td>6</td>\n",
       "      <td>1</td>\n",
       "      <td>2019</td>\n",
       "      <td>9</td>\n",
       "      <td>1</td>\n",
       "      <td>2019</td>\n",
       "      <td>6</td>\n",
       "      <td>1</td>\n",
       "      <td>2019</td>\n",
       "    </tr>\n",
       "    <tr>\n",
       "      <th>2</th>\n",
       "      <td>PURASABHE</td>\n",
       "      <td>9000</td>\n",
       "      <td>Solar Light Selco</td>\n",
       "      <td>SELCO</td>\n",
       "      <td>169976</td>\n",
       "      <td>35.0</td>\n",
       "      <td>94.0</td>\n",
       "      <td>1</td>\n",
       "      <td>6</td>\n",
       "      <td>2018</td>\n",
       "      <td>3</td>\n",
       "      <td>6</td>\n",
       "      <td>2018</td>\n",
       "      <td>1</td>\n",
       "      <td>6</td>\n",
       "      <td>2018</td>\n",
       "    </tr>\n",
       "    <tr>\n",
       "      <th>3</th>\n",
       "      <td>Mekalmardi</td>\n",
       "      <td>8000</td>\n",
       "      <td>Solar Light Selco</td>\n",
       "      <td>SELCO</td>\n",
       "      <td>137608</td>\n",
       "      <td>35.0</td>\n",
       "      <td>48.0</td>\n",
       "      <td>23</td>\n",
       "      <td>9</td>\n",
       "      <td>2018</td>\n",
       "      <td>24</td>\n",
       "      <td>9</td>\n",
       "      <td>2018</td>\n",
       "      <td>23</td>\n",
       "      <td>9</td>\n",
       "      <td>2018</td>\n",
       "    </tr>\n",
       "    <tr>\n",
       "      <th>4</th>\n",
       "      <td>Bijkal</td>\n",
       "      <td>36000</td>\n",
       "      <td>Solar Light Selco</td>\n",
       "      <td>SELCO</td>\n",
       "      <td>114405</td>\n",
       "      <td>40.0</td>\n",
       "      <td>80.0</td>\n",
       "      <td>14</td>\n",
       "      <td>3</td>\n",
       "      <td>2019</td>\n",
       "      <td>17</td>\n",
       "      <td>3</td>\n",
       "      <td>2019</td>\n",
       "      <td>14</td>\n",
       "      <td>3</td>\n",
       "      <td>2019</td>\n",
       "    </tr>\n",
       "  </tbody>\n",
       "</table>\n",
       "</div>"
      ],
      "text/plain": [
       "         Village  Loan Amount       Product Type Manufacturer Name  \\\n",
       "0     Honnavalli        15500  Solar Light Selco             SELCO   \n",
       "1  Amaramudnooru        53000  Solar Light Selco             SELCO   \n",
       "2      PURASABHE         9000  Solar Light Selco             SELCO   \n",
       "3     Mekalmardi         8000  Solar Light Selco             SELCO   \n",
       "4         Bijkal        36000  Solar Light Selco             SELCO   \n",
       "\n",
       "   Loan Account Number  product_id  branch_id  Loan_Applied_day  \\\n",
       "0                99155        50.0       55.0                11   \n",
       "1               369065        42.0        4.0                 6   \n",
       "2               169976        35.0       94.0                 1   \n",
       "3               137608        35.0       48.0                23   \n",
       "4               114405        40.0       80.0                14   \n",
       "\n",
       "   Loan_Applied_month  Loan_Applied_year  Product_Installed_day  \\\n",
       "0                   6               2018                     17   \n",
       "1                   1               2019                      9   \n",
       "2                   6               2018                      3   \n",
       "3                   9               2018                     24   \n",
       "4                   3               2019                     17   \n",
       "\n",
       "   Product_Installed_month  Product_Installed_year  Document_signed_day  \\\n",
       "0                        6                    2018                   11   \n",
       "1                        1                    2019                    6   \n",
       "2                        6                    2018                    1   \n",
       "3                        9                    2018                   23   \n",
       "4                        3                    2019                   14   \n",
       "\n",
       "   Document_signed_month  Document_signed_year  \n",
       "0                      6                  2018  \n",
       "1                      1                  2019  \n",
       "2                      6                  2018  \n",
       "3                      9                  2018  \n",
       "4                      3                  2019  "
      ]
     },
     "execution_count": 38,
     "metadata": {},
     "output_type": "execute_result"
    }
   ],
   "source": [
    "data.head()"
   ]
  },
  {
   "cell_type": "code",
   "execution_count": null,
   "metadata": {},
   "outputs": [],
   "source": []
  },
  {
   "cell_type": "code",
   "execution_count": 39,
   "metadata": {},
   "outputs": [
    {
     "data": {
      "image/png": "[encoded data removed]",
      "text/plain": [
       "<Figure size 864x720 with 2 Axes>"
      ]
     },
     "metadata": {
      "needs_background": "light"
     },
     "output_type": "display_data"
    }
   ],
   "source": [
    "corr = data.corr() # We already examined SalePrice correlations\n",
    "plt.figure(figsize=(12, 10))\n",
    "\n",
    "sns.heatmap(corr[(corr >= 0.5) | (corr <= -0.4)], \n",
    "            cmap='viridis', vmax=1.0, vmin=-1.0, linewidths=0.1,\n",
    "            annot=True, annot_kws={\"size\": 8}, square=True);"
   ]
  },
  {
   "cell_type": "markdown",
   "metadata": {},
   "source": [
    "Here Most of the features seems highly correlated . It seems that loan_applied_month and Product_installed_month is highly correlated. That means within that Loan Applied month itself , product get installed, and also person signed the document"
   ]
  },
  {
   "cell_type": "code",
   "execution_count": 42,
   "metadata": {},
   "outputs": [],
   "source": [
    "final_data = data.copy()"
   ]
  },
  {
   "cell_type": "markdown",
   "metadata": {},
   "source": [
    "### here is the final cleaned data"
   ]
  },
  {
   "cell_type": "code",
   "execution_count": 43,
   "metadata": {},
   "outputs": [
    {
     "data": {
      "text/html": [
       "<div>\n",
       "<style scoped>\n",
       "    .dataframe tbody tr th:only-of-type {\n",
       "        vertical-align: middle;\n",
       "    }\n",
       "\n",
       "    .dataframe tbody tr th {\n",
       "        vertical-align: top;\n",
       "    }\n",
       "\n",
       "    .dataframe thead th {\n",
       "        text-align: right;\n",
       "    }\n",
       "</style>\n",
       "<table border=\"1\" class=\"dataframe\">\n",
       "  <thead>\n",
       "    <tr style=\"text-align: right;\">\n",
       "      <th></th>\n",
       "      <th>Village</th>\n",
       "      <th>Loan Amount</th>\n",
       "      <th>Product Type</th>\n",
       "      <th>Manufacturer Name</th>\n",
       "      <th>Loan Account Number</th>\n",
       "      <th>product_id</th>\n",
       "      <th>branch_id</th>\n",
       "      <th>Loan_Applied_day</th>\n",
       "      <th>Loan_Applied_month</th>\n",
       "      <th>Loan_Applied_year</th>\n",
       "      <th>Product_Installed_day</th>\n",
       "      <th>Product_Installed_month</th>\n",
       "      <th>Product_Installed_year</th>\n",
       "      <th>Document_signed_day</th>\n",
       "      <th>Document_signed_month</th>\n",
       "      <th>Document_signed_year</th>\n",
       "    </tr>\n",
       "  </thead>\n",
       "  <tbody>\n",
       "    <tr>\n",
       "      <th>0</th>\n",
       "      <td>Honnavalli</td>\n",
       "      <td>15500</td>\n",
       "      <td>Solar Light Selco</td>\n",
       "      <td>SELCO</td>\n",
       "      <td>99155</td>\n",
       "      <td>50.0</td>\n",
       "      <td>55.0</td>\n",
       "      <td>11</td>\n",
       "      <td>6</td>\n",
       "      <td>2018</td>\n",
       "      <td>17</td>\n",
       "      <td>6</td>\n",
       "      <td>2018</td>\n",
       "      <td>11</td>\n",
       "      <td>6</td>\n",
       "      <td>2018</td>\n",
       "    </tr>\n",
       "    <tr>\n",
       "      <th>1</th>\n",
       "      <td>Amaramudnooru</td>\n",
       "      <td>53000</td>\n",
       "      <td>Solar Light Selco</td>\n",
       "      <td>SELCO</td>\n",
       "      <td>369065</td>\n",
       "      <td>42.0</td>\n",
       "      <td>4.0</td>\n",
       "      <td>6</td>\n",
       "      <td>1</td>\n",
       "      <td>2019</td>\n",
       "      <td>9</td>\n",
       "      <td>1</td>\n",
       "      <td>2019</td>\n",
       "      <td>6</td>\n",
       "      <td>1</td>\n",
       "      <td>2019</td>\n",
       "    </tr>\n",
       "    <tr>\n",
       "      <th>2</th>\n",
       "      <td>PURASABHE</td>\n",
       "      <td>9000</td>\n",
       "      <td>Solar Light Selco</td>\n",
       "      <td>SELCO</td>\n",
       "      <td>169976</td>\n",
       "      <td>35.0</td>\n",
       "      <td>94.0</td>\n",
       "      <td>1</td>\n",
       "      <td>6</td>\n",
       "      <td>2018</td>\n",
       "      <td>3</td>\n",
       "      <td>6</td>\n",
       "      <td>2018</td>\n",
       "      <td>1</td>\n",
       "      <td>6</td>\n",
       "      <td>2018</td>\n",
       "    </tr>\n",
       "    <tr>\n",
       "      <th>3</th>\n",
       "      <td>Mekalmardi</td>\n",
       "      <td>8000</td>\n",
       "      <td>Solar Light Selco</td>\n",
       "      <td>SELCO</td>\n",
       "      <td>137608</td>\n",
       "      <td>35.0</td>\n",
       "      <td>48.0</td>\n",
       "      <td>23</td>\n",
       "      <td>9</td>\n",
       "      <td>2018</td>\n",
       "      <td>24</td>\n",
       "      <td>9</td>\n",
       "      <td>2018</td>\n",
       "      <td>23</td>\n",
       "      <td>9</td>\n",
       "      <td>2018</td>\n",
       "    </tr>\n",
       "    <tr>\n",
       "      <th>4</th>\n",
       "      <td>Bijkal</td>\n",
       "      <td>36000</td>\n",
       "      <td>Solar Light Selco</td>\n",
       "      <td>SELCO</td>\n",
       "      <td>114405</td>\n",
       "      <td>40.0</td>\n",
       "      <td>80.0</td>\n",
       "      <td>14</td>\n",
       "      <td>3</td>\n",
       "      <td>2019</td>\n",
       "      <td>17</td>\n",
       "      <td>3</td>\n",
       "      <td>2019</td>\n",
       "      <td>14</td>\n",
       "      <td>3</td>\n",
       "      <td>2019</td>\n",
       "    </tr>\n",
       "    <tr>\n",
       "      <th>5</th>\n",
       "      <td>Vatalu</td>\n",
       "      <td>2350</td>\n",
       "      <td>Greenway Jumbo Stove GJS1</td>\n",
       "      <td>Greenway Grameena Infra</td>\n",
       "      <td>160991</td>\n",
       "      <td>38.0</td>\n",
       "      <td>66.0</td>\n",
       "      <td>31</td>\n",
       "      <td>12</td>\n",
       "      <td>2018</td>\n",
       "      <td>3</td>\n",
       "      <td>1</td>\n",
       "      <td>2019</td>\n",
       "      <td>31</td>\n",
       "      <td>12</td>\n",
       "      <td>2018</td>\n",
       "    </tr>\n",
       "    <tr>\n",
       "      <th>6</th>\n",
       "      <td>H.D.Pura</td>\n",
       "      <td>11000</td>\n",
       "      <td>Solar Light Selco</td>\n",
       "      <td>SELCO</td>\n",
       "      <td>108271</td>\n",
       "      <td>43.0</td>\n",
       "      <td>77.0</td>\n",
       "      <td>30</td>\n",
       "      <td>11</td>\n",
       "      <td>2017</td>\n",
       "      <td>3</td>\n",
       "      <td>12</td>\n",
       "      <td>2017</td>\n",
       "      <td>30</td>\n",
       "      <td>11</td>\n",
       "      <td>2017</td>\n",
       "    </tr>\n",
       "    <tr>\n",
       "      <th>7</th>\n",
       "      <td>NELLIKAR</td>\n",
       "      <td>2350</td>\n",
       "      <td>Greenway Jumbo Stove GJS1</td>\n",
       "      <td>Greenway Grameena Infra</td>\n",
       "      <td>945091</td>\n",
       "      <td>38.0</td>\n",
       "      <td>3.0</td>\n",
       "      <td>12</td>\n",
       "      <td>1</td>\n",
       "      <td>2019</td>\n",
       "      <td>13</td>\n",
       "      <td>1</td>\n",
       "      <td>2019</td>\n",
       "      <td>12</td>\n",
       "      <td>1</td>\n",
       "      <td>2019</td>\n",
       "    </tr>\n",
       "    <tr>\n",
       "      <th>8</th>\n",
       "      <td>Kodiyal C</td>\n",
       "      <td>2350</td>\n",
       "      <td>Greenway Jumbo Stove GJS1</td>\n",
       "      <td>Greenway Grameena Infra</td>\n",
       "      <td>126625</td>\n",
       "      <td>38.0</td>\n",
       "      <td>34.0</td>\n",
       "      <td>19</td>\n",
       "      <td>11</td>\n",
       "      <td>2018</td>\n",
       "      <td>21</td>\n",
       "      <td>11</td>\n",
       "      <td>2018</td>\n",
       "      <td>19</td>\n",
       "      <td>11</td>\n",
       "      <td>2018</td>\n",
       "    </tr>\n",
       "    <tr>\n",
       "      <th>9</th>\n",
       "      <td>Navelehal</td>\n",
       "      <td>9000</td>\n",
       "      <td>Solar Light Selco</td>\n",
       "      <td>SELCO</td>\n",
       "      <td>191584</td>\n",
       "      <td>35.0</td>\n",
       "      <td>88.0</td>\n",
       "      <td>25</td>\n",
       "      <td>9</td>\n",
       "      <td>2018</td>\n",
       "      <td>27</td>\n",
       "      <td>9</td>\n",
       "      <td>2018</td>\n",
       "      <td>25</td>\n",
       "      <td>9</td>\n",
       "      <td>2018</td>\n",
       "    </tr>\n",
       "  </tbody>\n",
       "</table>\n",
       "</div>"
      ],
      "text/plain": [
       "         Village  Loan Amount               Product Type  \\\n",
       "0     Honnavalli        15500          Solar Light Selco   \n",
       "1  Amaramudnooru        53000          Solar Light Selco   \n",
       "2      PURASABHE         9000          Solar Light Selco   \n",
       "3     Mekalmardi         8000          Solar Light Selco   \n",
       "4         Bijkal        36000          Solar Light Selco   \n",
       "5         Vatalu         2350  Greenway Jumbo Stove GJS1   \n",
       "6       H.D.Pura        11000          Solar Light Selco   \n",
       "7       NELLIKAR         2350  Greenway Jumbo Stove GJS1   \n",
       "8      Kodiyal C         2350  Greenway Jumbo Stove GJS1   \n",
       "9      Navelehal         9000          Solar Light Selco   \n",
       "\n",
       "         Manufacturer Name  Loan Account Number  product_id  branch_id  \\\n",
       "0                    SELCO                99155        50.0       55.0   \n",
       "1                    SELCO               369065        42.0        4.0   \n",
       "2                    SELCO               169976        35.0       94.0   \n",
       "3                    SELCO               137608        35.0       48.0   \n",
       "4                    SELCO               114405        40.0       80.0   \n",
       "5  Greenway Grameena Infra               160991        38.0       66.0   \n",
       "6                    SELCO               108271        43.0       77.0   \n",
       "7  Greenway Grameena Infra               945091        38.0        3.0   \n",
       "8  Greenway Grameena Infra               126625        38.0       34.0   \n",
       "9                    SELCO               191584        35.0       88.0   \n",
       "\n",
       "   Loan_Applied_day  Loan_Applied_month  Loan_Applied_year  \\\n",
       "0                11                   6               2018   \n",
       "1                 6                   1               2019   \n",
       "2                 1                   6               2018   \n",
       "3                23                   9               2018   \n",
       "4                14                   3               2019   \n",
       "5                31                  12               2018   \n",
       "6                30                  11               2017   \n",
       "7                12                   1               2019   \n",
       "8                19                  11               2018   \n",
       "9                25                   9               2018   \n",
       "\n",
       "   Product_Installed_day  Product_Installed_month  Product_Installed_year  \\\n",
       "0                     17                        6                    2018   \n",
       "1                      9                        1                    2019   \n",
       "2                      3                        6                    2018   \n",
       "3                     24                        9                    2018   \n",
       "4                     17                        3                    2019   \n",
       "5                      3                        1                    2019   \n",
       "6                      3                       12                    2017   \n",
       "7                     13                        1                    2019   \n",
       "8                     21                       11                    2018   \n",
       "9                     27                        9                    2018   \n",
       "\n",
       "   Document_signed_day  Document_signed_month  Document_signed_year  \n",
       "0                   11                      6                  2018  \n",
       "1                    6                      1                  2019  \n",
       "2                    1                      6                  2018  \n",
       "3                   23                      9                  2018  \n",
       "4                   14                      3                  2019  \n",
       "5                   31                     12                  2018  \n",
       "6                   30                     11                  2017  \n",
       "7                   12                      1                  2019  \n",
       "8                   19                     11                  2018  \n",
       "9                   25                      9                  2018  "
      ]
     },
     "execution_count": 43,
     "metadata": {},
     "output_type": "execute_result"
    }
   ],
   "source": [
    "\n",
    "final_data.head(10)"
   ]
  },
  {
   "cell_type": "code",
   "execution_count": null,
   "metadata": {},
   "outputs": [],
   "source": []
  },
  {
   "cell_type": "code",
   "execution_count": null,
   "metadata": {},
   "outputs": [],
   "source": []
  }
 ],
 "metadata": {
  "kernelspec": {
   "display_name": "Python 3",
   "language": "python",
   "name": "python3"
  },
  "language_info": {
   "codemirror_mode": {
    "name": "ipython",
    "version": 3
   },
   "file_extension": ".py",
   "mimetype": "text/x-python",
   "name": "python",
   "nbconvert_exporter": "python",
   "pygments_lexer": "ipython3",
   "version": "3.7.1"
  }
 },
 "nbformat": 4,
 "nbformat_minor": 2
}
